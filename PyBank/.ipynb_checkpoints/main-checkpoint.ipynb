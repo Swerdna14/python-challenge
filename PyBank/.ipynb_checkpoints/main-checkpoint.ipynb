{
 "cells": [
  {
   "cell_type": "code",
   "execution_count": 28,
   "id": "fb0b856f-3de8-48f2-855b-f280c61244af",
   "metadata": {},
   "outputs": [
    {
     "name": "stdout",
     "output_type": "stream",
     "text": [
      "1170593\n"
     ]
    }
   ],
   "source": [
    "#Importing pathlib and csv library\n",
    "\n",
    "from pathlib import Path\n",
    "import csv\n",
    "\n",
    "#Importing csv file\n",
    "csvpath = Path('./budget_data.csv')\n",
    "\n",
    "pnl_list = []\n",
    "\n",
    "t_months = 0\n",
    "total_pnl = 0\n",
    "max_profit = 0\n",
    "min_profit = 0\n",
    "\n",
    "with open(csvpath, 'r') as csvfile:\n",
    "    csvreader = csv.reader(csvfile)\n",
    "    header = next(csvreader)\n",
    "    \n",
    "    for row in csvreader:\n",
    "        date = row[0]\n",
    "        pnl = int(row[1])\n",
    "        pnl_list.append(pnl)\n",
    "        \n",
    "for pnl in pnl_list:\n",
    "    t_months += 1\n",
    "    total_pnl += pnl\n",
    "    \n",
    "    if min_profit == 0:\n",
    "        min_profit = pnl\n",
    "    elif pnl > max_profit:\n",
    "        max_profit = pnl\n",
    "    elif pnl < min_profit:\n",
    "        min_profit = pnl\n",
    "\n",
    "        \n",
    "print(max_profit)"
   ]
  },
  {
   "cell_type": "code",
   "execution_count": null,
   "id": "0f64658f-eb33-4797-93ac-1341b600c8ba",
   "metadata": {},
   "outputs": [],
   "source": []
  }
 ],
 "metadata": {
  "kernelspec": {
   "display_name": "Python 3 (ipykernel)",
   "language": "python",
   "name": "python3"
  },
  "language_info": {
   "codemirror_mode": {
    "name": "ipython",
    "version": 3
   },
   "file_extension": ".py",
   "mimetype": "text/x-python",
   "name": "python",
   "nbconvert_exporter": "python",
   "pygments_lexer": "ipython3",
   "version": "3.7.13"
  }
 },
 "nbformat": 4,
 "nbformat_minor": 5
}
