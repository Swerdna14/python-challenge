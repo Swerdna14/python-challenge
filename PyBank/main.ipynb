{
 "cells": [
  {
   "cell_type": "code",
   "execution_count": 34,
   "id": "fb0b856f-3de8-48f2-855b-f280c61244af",
   "metadata": {},
   "outputs": [
    {
     "ename": "TypeError",
     "evalue": "'int' object is not subscriptable",
     "output_type": "error",
     "traceback": [
      "\u001b[1;31m---------------------------------------------------------------------------\u001b[0m",
      "\u001b[1;31mTypeError\u001b[0m                                 Traceback (most recent call last)",
      "\u001b[1;32m~\\AppData\\Local\\Temp\\ipykernel_5520\\3008892982.py\u001b[0m in \u001b[0;36m<module>\u001b[1;34m\u001b[0m\n\u001b[0;32m     32\u001b[0m     \u001b[0mt_months\u001b[0m \u001b[1;33m+=\u001b[0m \u001b[1;36m1\u001b[0m\u001b[1;33m\u001b[0m\u001b[1;33m\u001b[0m\u001b[0m\n\u001b[0;32m     33\u001b[0m     \u001b[0mtotal_pnl\u001b[0m \u001b[1;33m+=\u001b[0m \u001b[0mpnl\u001b[0m\u001b[1;33m\u001b[0m\u001b[1;33m\u001b[0m\u001b[0m\n\u001b[1;32m---> 34\u001b[1;33m     \u001b[0mdifference\u001b[0m \u001b[1;33m=\u001b[0m \u001b[0mpnl\u001b[0m \u001b[1;33m-\u001b[0m \u001b[0mpnl\u001b[0m\u001b[1;33m[\u001b[0m\u001b[1;33m:\u001b[0m\u001b[1;33m:\u001b[0m\u001b[1;33m]\u001b[0m\u001b[1;33m\u001b[0m\u001b[1;33m\u001b[0m\u001b[0m\n\u001b[0m\u001b[0;32m     35\u001b[0m \u001b[1;33m\u001b[0m\u001b[0m\n\u001b[0;32m     36\u001b[0m     \u001b[1;32mif\u001b[0m \u001b[0mmin_profit\u001b[0m \u001b[1;33m==\u001b[0m \u001b[1;36m0\u001b[0m\u001b[1;33m:\u001b[0m\u001b[1;33m\u001b[0m\u001b[1;33m\u001b[0m\u001b[0m\n",
      "\u001b[1;31mTypeError\u001b[0m: 'int' object is not subscriptable"
     ]
    }
   ],
   "source": [
    "#Importing pathlib and csv library\n",
    "\n",
    "from pathlib import Path\n",
    "import csv\n",
    "\n",
    "#Importing csv file\n",
    "csvpath = Path('./budget_data.csv')\n",
    "\n",
    "pnl_list = []\n",
    "\n",
    "t_months = 0\n",
    "total_pnl = 0\n",
    "max_profit = 0\n",
    "min_profit = 0\n",
    "av_difference = 0\n",
    "difference = 0\n",
    "\n",
    "\n",
    "with open(csvpath, 'r') as csvfile:\n",
    "    csvreader = csv.reader(csvfile, delimiter=',')\n",
    "    header = next(csvreader)\n",
    "    \n",
    "    \n",
    "    for row in csvreader:\n",
    "        date = row[0]\n",
    "        pnl = int(row[1])\n",
    "        pnl_list.append(pnl)\n",
    "        \n",
    "\n",
    "\n",
    "for pnl in pnl_list:\n",
    "    t_months += 1\n",
    "    total_pnl += pnl\n",
    "    difference = pnl - pnl[::]\n",
    "    \n",
    "    if min_profit == 0:\n",
    "        min_profit = pnl\n",
    "    elif pnl > max_profit:\n",
    "        max_profit = pnl\n",
    "    elif pnl < min_profit:\n",
    "        min_profit = pnl\n",
    "\n",
    "print(difference)"
   ]
  },
  {
   "cell_type": "code",
   "execution_count": null,
   "id": "0f64658f-eb33-4797-93ac-1341b600c8ba",
   "metadata": {},
   "outputs": [],
   "source": [
    "output_path = Path('output.txt')\n",
    "\n",
    "with open(output_path, 'w') as txtfile:\n",
    "    txtwriter = txt.writer(txtfile)\n",
    "    writelines(f\"Financial Analysis\", \"\\n----------------\", \"\\nTotal Months: {t_months}\", \"\\nTotal: ${total_pnl}\", \"\\nAverage Change: ${av_difference}\",\n",
    "               \"\\nGreatest Increase in Profits: Feb-2012 (${max_profit})\", \"\\nGreatest Decrease in Profits: Sep-2013 (${min_proft}) \n",
    "              )"
   ]
  }
 ],
 "metadata": {
  "kernelspec": {
   "display_name": "Python 3 (ipykernel)",
   "language": "python",
   "name": "python3"
  },
  "language_info": {
   "codemirror_mode": {
    "name": "ipython",
    "version": 3
   },
   "file_extension": ".py",
   "mimetype": "text/x-python",
   "name": "python",
   "nbconvert_exporter": "python",
   "pygments_lexer": "ipython3",
   "version": "3.7.13"
  }
 },
 "nbformat": 4,
 "nbformat_minor": 5
}
