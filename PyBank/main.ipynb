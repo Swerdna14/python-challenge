{
 "cells": [
  {
   "cell_type": "code",
   "execution_count": 64,
   "id": "f35f50b3-64f4-4702-9f6b-e8c1a2269369",
   "metadata": {},
   "outputs": [],
   "source": [
    "#Importing PANDAS and the Pathlib\n",
    "import pandas as pd\n",
    "from pathlib import Path"
   ]
  },
  {
   "cell_type": "code",
   "execution_count": 63,
   "id": "e317eefc-a665-42d2-bed2-7cc5d3df9f9f",
   "metadata": {},
   "outputs": [],
   "source": [
    "#Creating the pathfile\n",
    "csvpath = Path(\"./budget_data.csv\")"
   ]
  },
  {
   "cell_type": "code",
   "execution_count": 100,
   "id": "d0e1aa7e-e9bd-4cd8-bbab-5763de9dba4e",
   "metadata": {},
   "outputs": [
    {
     "data": {
      "text/html": [
       "<div>\n",
       "<style scoped>\n",
       "    .dataframe tbody tr th:only-of-type {\n",
       "        vertical-align: middle;\n",
       "    }\n",
       "\n",
       "    .dataframe tbody tr th {\n",
       "        vertical-align: top;\n",
       "    }\n",
       "\n",
       "    .dataframe thead th {\n",
       "        text-align: right;\n",
       "    }\n",
       "</style>\n",
       "<table border=\"1\" class=\"dataframe\">\n",
       "  <thead>\n",
       "    <tr style=\"text-align: right;\">\n",
       "      <th></th>\n",
       "      <th>Date</th>\n",
       "      <th>Profit/Losses</th>\n",
       "    </tr>\n",
       "  </thead>\n",
       "  <tbody>\n",
       "    <tr>\n",
       "      <th>0</th>\n",
       "      <td>Jan-2010</td>\n",
       "      <td>867884</td>\n",
       "    </tr>\n",
       "    <tr>\n",
       "      <th>1</th>\n",
       "      <td>Feb-2010</td>\n",
       "      <td>984655</td>\n",
       "    </tr>\n",
       "    <tr>\n",
       "      <th>2</th>\n",
       "      <td>Mar-2010</td>\n",
       "      <td>322013</td>\n",
       "    </tr>\n",
       "    <tr>\n",
       "      <th>3</th>\n",
       "      <td>Apr-2010</td>\n",
       "      <td>-69417</td>\n",
       "    </tr>\n",
       "    <tr>\n",
       "      <th>4</th>\n",
       "      <td>May-2010</td>\n",
       "      <td>310503</td>\n",
       "    </tr>\n",
       "  </tbody>\n",
       "</table>\n",
       "</div>"
      ],
      "text/plain": [
       "       Date  Profit/Losses\n",
       "0  Jan-2010         867884\n",
       "1  Feb-2010         984655\n",
       "2  Mar-2010         322013\n",
       "3  Apr-2010         -69417\n",
       "4  May-2010         310503"
      ]
     },
     "execution_count": 100,
     "metadata": {},
     "output_type": "execute_result"
    }
   ],
   "source": [
    "#Adding the csvfile to a dataframe\n",
    "budget_data = pd.read_csv(csvpath, header=0)\n",
    "\n",
    "#Testing to see if everything has been imported correctly\n",
    "budget_data.head()"
   ]
  },
  {
   "cell_type": "code",
   "execution_count": 67,
   "id": "3f6e2e03-5b92-49c1-ad88-55a3840f6479",
   "metadata": {},
   "outputs": [],
   "source": [
    "#Creating a new column within the dataframe that has the difference between the 'Profit/Losses' column\n",
    "budget_data['Difference'] = budget_data['Profit/Losses'].diff()"
   ]
  },
  {
   "cell_type": "code",
   "execution_count": 73,
   "id": "28ca802c-1040-4c10-8cbe-c99e57a8c637",
   "metadata": {},
   "outputs": [
    {
     "data": {
      "text/html": [
       "<div>\n",
       "<style scoped>\n",
       "    .dataframe tbody tr th:only-of-type {\n",
       "        vertical-align: middle;\n",
       "    }\n",
       "\n",
       "    .dataframe tbody tr th {\n",
       "        vertical-align: top;\n",
       "    }\n",
       "\n",
       "    .dataframe thead th {\n",
       "        text-align: right;\n",
       "    }\n",
       "</style>\n",
       "<table border=\"1\" class=\"dataframe\">\n",
       "  <thead>\n",
       "    <tr style=\"text-align: right;\">\n",
       "      <th></th>\n",
       "      <th>Date</th>\n",
       "      <th>Profit/Losses</th>\n",
       "      <th>Difference</th>\n",
       "    </tr>\n",
       "  </thead>\n",
       "  <tbody>\n",
       "    <tr>\n",
       "      <th>0</th>\n",
       "      <td>Jan-2010</td>\n",
       "      <td>867884</td>\n",
       "      <td>NaN</td>\n",
       "    </tr>\n",
       "    <tr>\n",
       "      <th>1</th>\n",
       "      <td>Feb-2010</td>\n",
       "      <td>984655</td>\n",
       "      <td>116771.0</td>\n",
       "    </tr>\n",
       "    <tr>\n",
       "      <th>2</th>\n",
       "      <td>Mar-2010</td>\n",
       "      <td>322013</td>\n",
       "      <td>-662642.0</td>\n",
       "    </tr>\n",
       "    <tr>\n",
       "      <th>3</th>\n",
       "      <td>Apr-2010</td>\n",
       "      <td>-69417</td>\n",
       "      <td>-391430.0</td>\n",
       "    </tr>\n",
       "    <tr>\n",
       "      <th>4</th>\n",
       "      <td>May-2010</td>\n",
       "      <td>310503</td>\n",
       "      <td>379920.0</td>\n",
       "    </tr>\n",
       "  </tbody>\n",
       "</table>\n",
       "</div>"
      ],
      "text/plain": [
       "       Date  Profit/Losses  Difference\n",
       "0  Jan-2010         867884         NaN\n",
       "1  Feb-2010         984655    116771.0\n",
       "2  Mar-2010         322013   -662642.0\n",
       "3  Apr-2010         -69417   -391430.0\n",
       "4  May-2010         310503    379920.0"
      ]
     },
     "execution_count": 73,
     "metadata": {},
     "output_type": "execute_result"
    }
   ],
   "source": [
    "#Printing the dataframe to check if the column has been done successfully\n",
    "budget_data.head()"
   ]
  },
  {
   "cell_type": "code",
   "execution_count": 84,
   "id": "4134aee1-00b9-4e8d-b2aa-f980e3fedbb8",
   "metadata": {},
   "outputs": [],
   "source": [
    "#Creating the variables using the correct formulas\n",
    "t_months = budget_data['Date'].count()\n",
    "pnl_total = budget_data['Profit/Losses'].sum()\n",
    "average = round(budget_data['Difference'].mean(), 2)\n",
    "max_profit = round(budget_data['Difference'].max())\n",
    "min_profit = round(budget_data['Difference'].min())"
   ]
  },
  {
   "cell_type": "code",
   "execution_count": 85,
   "id": "e088be16-d296-4463-9071-b06ce12ae223",
   "metadata": {},
   "outputs": [
    {
     "name": "stdout",
     "output_type": "stream",
     "text": [
      "86\n",
      "38382578\n",
      "-2315.12\n",
      "1926159\n",
      "-2196167\n"
     ]
    }
   ],
   "source": [
    "#Printing the variables to make sure that they are correct\n",
    "print(t_months)\n",
    "print(pnl_total)\n",
    "print(average)\n",
    "print(max_profit)\n",
    "print(min_profit)"
   ]
  },
  {
   "cell_type": "code",
   "execution_count": 86,
   "id": "41b225f5-e322-495a-855e-841ad13eebe3",
   "metadata": {},
   "outputs": [
    {
     "name": "stdout",
     "output_type": "stream",
     "text": [
      "Financial Analysis \n",
      "---------------- \n",
      "Total Months:  86 \n",
      "Total: $ 38382578 \n",
      "Average Change: $ -2315.12 \n",
      "Greatest Increase in Profits: Feb-2012 ($ 1926159 ) \n",
      "Greatest Decrease in Profits: Sep-2013 ($ -2196167 )\n"
     ]
    }
   ],
   "source": [
    "#Printing all of the results along with context\n",
    "print(f\"Financial Analysis\", \"\\n----------------\", \"\\nTotal Months: \", t_months, \"\\nTotal: $\", pnl_total, \"\\nAverage Change: $\", average, \"\\nGreatest Increase in Profits: Feb-2012 ($\", max_profit, \")\", \"\\nGreatest Decrease in Profits: Sep-2013 ($\", min_profit, \")\")"
   ]
  },
  {
   "cell_type": "code",
   "execution_count": 99,
   "id": "8c0720cc-9a02-4aab-8419-5d49f52f4c92",
   "metadata": {},
   "outputs": [],
   "source": [
    "#Creating the file output name and path\n",
    "output_path = Path('output.txt')\n",
    "\n",
    "#Writing values into the txt file\n",
    "with open(output_path, 'w') as f:\n",
    "    f.write(\"Financial Analysis\")\n",
    "    f.write(\"\\n----------------------\")\n",
    "    f.write(\"\\nTotal Months: \")\n",
    "    f.write(str(t_months))\n",
    "    f.write(\"\\nTotal: $\")\n",
    "    f.write(str(pnl_total))\n",
    "    f.write(\"\\nAverage Change: $\")\n",
    "    f.write(str(average))\n",
    "    f.write(\"\\nGreatest Increase in Profits: Feb-2012 ($\")\n",
    "    f.write(str(max_profit))\n",
    "    f.write(\")\")\n",
    "    f.write(\"\\nGreatest Decrease in Profits: Sep-2013 ($\")\n",
    "    f.write(str(min_profit))\n",
    "    f.write(\")\")"
   ]
  }
 ],
 "metadata": {
  "kernelspec": {
   "display_name": "Python 3 (ipykernel)",
   "language": "python",
   "name": "python3"
  },
  "language_info": {
   "codemirror_mode": {
    "name": "ipython",
    "version": 3
   },
   "file_extension": ".py",
   "mimetype": "text/x-python",
   "name": "python",
   "nbconvert_exporter": "python",
   "pygments_lexer": "ipython3",
   "version": "3.7.13"
  }
 },
 "nbformat": 4,
 "nbformat_minor": 5
}
